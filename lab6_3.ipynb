{
 "cells": [
  {
   "cell_type": "code",
   "execution_count": null,
   "metadata": {},
   "outputs": [],
   "source": [
    "def main():\n",
    "    score = float(input(\"โปรดป้อนคะแนนที่ได้รับ (ไม่เกิน 20): \"))\n",
    "    \n",
    "    if score >= 0 and score <= 20:\n",
    "        print(\"คะแนนที่ป้อนถูกต้อง\")\n",
    "    else:\n",
    "        print(\"คะแนนที่ป้อนไม่ถูกต้อง\")\n",
    "\n",
    "if __name__ == \"__main__\":\n",
    "    main()"
   ]
  }
 ],
 "metadata": {
  "language_info": {
   "name": "python"
  }
 },
 "nbformat": 4,
 "nbformat_minor": 2
}
