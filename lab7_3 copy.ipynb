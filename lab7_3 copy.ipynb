{
 "cells": [
  {
   "cell_type": "code",
   "execution_count": 1,
   "metadata": {},
   "outputs": [
    {
     "ename": "SyntaxError",
     "evalue": "expected ':' (413060628.py, line 2)",
     "output_type": "error",
     "traceback": [
      "\u001b[1;36m  Cell \u001b[1;32mIn[1], line 2\u001b[1;36m\u001b[0m\n\u001b[1;33m    if(ot>40)\u001b[0m\n\u001b[1;37m             ^\u001b[0m\n\u001b[1;31mSyntaxError\u001b[0m\u001b[1;31m:\u001b[0m expected ':'\n"
     ]
    }
   ],
   "source": [
    "def salary (name ,sa ,ot):\n",
    "    if(ot>40)\n",
    "        ot=ot*150\n",
    "    else:\n",
    "        ot=ot*100\n",
    "        total = sa+ots\n",
    "        print(\"คุณ %s\" %name)\n",
    "        print(\"เงินเดือน %.2f\" %sa)\n",
    "        print(\"ชั่วโมงต่อเวลา %d\" %ot)\n",
    "        print(\"เงินล่วงเวลา %.2f\" %ots)\n",
    "        print(\"เงินเดือนทั้งหมด %.2f\" %total)\n",
    "        \n",
    "n = input(\"ป้อนชื่อพนักงาน\")\n",
    "s = int(input(\"เงินเดือน\"))\n",
    "o = int(input(\"ชั่วโมงล่วงเวลา\"))\n",
    "salary(n, s ,o)"
   ]
  },
  {
   "cell_type": "code",
   "execution_count": null,
   "metadata": {},
   "outputs": [],
   "source": []
  }
 ],
 "metadata": {
  "kernelspec": {
   "display_name": "Python 3",
   "language": "python",
   "name": "python3"
  },
  "language_info": {
   "codemirror_mode": {
    "name": "ipython",
    "version": 3
   },
   "file_extension": ".py",
   "mimetype": "text/x-python",
   "name": "python",
   "nbconvert_exporter": "python",
   "pygments_lexer": "ipython3",
   "version": "3.12.4"
  }
 },
 "nbformat": 4,
 "nbformat_minor": 2
}
