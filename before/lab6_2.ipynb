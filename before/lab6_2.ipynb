{
 "cells": [
  {
   "cell_type": "markdown",
   "metadata": {},
   "source": []
  },
  {
   "cell_type": "code",
   "execution_count": 3,
   "metadata": {},
   "outputs": [
    {
     "name": "stdout",
     "output_type": "stream",
     "text": [
      "คะแนนที่ป้อนถูกต้อง 10\n",
      "คะแนนจิตพิสัย 10\n",
      "คะแนนกลางภาค 10\n",
      "30\n"
     ]
    }
   ],
   "source": [
    "AC = 20\n",
    "\n",
    "a = int(input(\"คะแนนเก็บ = \"))\n",
    "while a > AC:\n",
    "    a = int(input(\"คะแนนเก็บ (ไม่เกิน 20) = \"))\n",
    "\n",
    "print(\"คะแนนที่ป้อนถูกต้อง\", a )\n",
    "\n",
    "BC = 10\n",
    "\n",
    "b = int(input(\"คะแนนจิตพิสัย = \"))\n",
    "while b > BC:\n",
    "    b = int(input(\"คะแนนจิตพิสัย (ไม่เกิน 10) = \"))\n",
    "\n",
    "print(\"คะแนนจิตพิสัย\" , a)\n",
    "\n",
    "CC = 20\n",
    "\n",
    "c = int(input(\"คะแนนกลางภาค = \"))\n",
    "while c > CC:\n",
    "    c = int(input(\"คะแนนกลางภาค (ไม่เกิน 20) = \"))\n",
    "\n",
    "print(\"คะแนนกลางภาค\" , a)\n",
    "\n",
    "sum = (a + b + c)\n",
    "print(sum)"
   ]
  },
  {
   "cell_type": "code",
   "execution_count": null,
   "metadata": {},
   "outputs": [],
   "source": []
  }
 ],
 "metadata": {
  "kernelspec": {
   "display_name": "Python 3",
   "language": "python",
   "name": "python3"
  },
  "language_info": {
   "codemirror_mode": {
    "name": "ipython",
    "version": 3
   },
   "file_extension": ".py",
   "mimetype": "text/x-python",
   "name": "python",
   "nbconvert_exporter": "python",
   "pygments_lexer": "ipython3",
   "version": "3.12.4"
  }
 },
 "nbformat": 4,
 "nbformat_minor": 2
}
