{
 "cells": [
  {
   "cell_type": "code",
   "execution_count": 24,
   "metadata": {},
   "outputs": [
    {
     "ename": "NameError",
     "evalue": "name 'name' is not defined",
     "output_type": "error",
     "traceback": [
      "\u001b[1;31m---------------------------------------------------------------------------\u001b[0m",
      "\u001b[1;31mNameError\u001b[0m                                 Traceback (most recent call last)",
      "Cell \u001b[1;32mIn[24], line 21\u001b[0m\n\u001b[0;32m     18\u001b[0m         pay \u001b[38;5;241m=\u001b[39m \u001b[38;5;241m40\u001b[39m \u001b[38;5;241m*\u001b[39m mouthy \u001b[38;5;241m+\u001b[39m (hours \u001b[38;5;241m-\u001b[39m \u001b[38;5;241m40\u001b[39m) \u001b[38;5;241m*\u001b[39m \u001b[38;5;241m1.5\u001b[39m \u001b[38;5;241m*\u001b[39m mouthy\n\u001b[0;32m     19\u001b[0m     \u001b[38;5;28;01mreturn\u001b[39;00m pay\n\u001b[1;32m---> 21\u001b[0m \u001b[38;5;28mprint\u001b[39m(\u001b[38;5;124mf\u001b[39m\u001b[38;5;124m\"\u001b[39m\u001b[38;5;124mค่าจ้างทั้งหมดสำหรับพนักงาน \u001b[39m\u001b[38;5;132;01m{\u001b[39;00m\u001b[43mname\u001b[49m\u001b[38;5;132;01m}\u001b[39;00m\u001b[38;5;124m คือ \u001b[39m\u001b[38;5;132;01m{\u001b[39;00mpay\u001b[38;5;132;01m}\u001b[39;00m\u001b[38;5;124m บาท\u001b[39m\u001b[38;5;124m\"\u001b[39m)\n",
      "\u001b[1;31mNameError\u001b[0m: name 'name' is not defined"
     ]
    }
   ],
   "source": [
    "def pay(num):\n",
    "    pay = hours * mouthy\n",
    "    return pay\n",
    "\n",
    "def pays(num):\n",
    "    pays = 40 * mouthy + (hours - 40) * 1.5 * mouthy\n",
    "    return pays\n",
    "\n",
    "\n",
    "def cop():\n",
    "    name = input(\"ชื่อพนักงาน : \")\n",
    "    mouthy = float(input(\"เงินเดือน : \"))\n",
    "    hours = float(input(\"ชั่วโมง : \"))\n",
    "    \n",
    "    if hours <= 40:\n",
    "        pay = hours * mouthy\n",
    "    elif hours >= 40:\n",
    "        pay = 40 * mouthy + (hours - 40) * 1.5 * mouthy\n",
    "    return pay\n",
    "    \n",
    "print(f\"ค่าจ้างทั้งหมดสำหรับพนักงาน {name} คือ {pay} บาท\")\n"
   ]
  }
 ],
 "metadata": {
  "kernelspec": {
   "display_name": "Python 3",
   "language": "python",
   "name": "python3"
  },
  "language_info": {
   "codemirror_mode": {
    "name": "ipython",
    "version": 3
   },
   "file_extension": ".py",
   "mimetype": "text/x-python",
   "name": "python",
   "nbconvert_exporter": "python",
   "pygments_lexer": "ipython3",
   "version": "3.12.4"
  }
 },
 "nbformat": 4,
 "nbformat_minor": 2
}
