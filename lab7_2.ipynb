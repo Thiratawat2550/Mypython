{
 "cells": [
  {
   "cell_type": "code",
   "execution_count": 28,
   "metadata": {},
   "outputs": [
    {
     "ename": "SyntaxError",
     "evalue": "invalid syntax (3235664527.py, line 13)",
     "output_type": "error",
     "traceback": [
      "\u001b[1;36m  Cell \u001b[1;32mIn[28], line 13\u001b[1;36m\u001b[0m\n\u001b[1;33m    btn = tk.Button (text=\"กดตรงนี้\".command= showme(name))\u001b[0m\n\u001b[1;37m                                            ^\u001b[0m\n\u001b[1;31mSyntaxError\u001b[0m\u001b[1;31m:\u001b[0m invalid syntax\n"
     ]
    }
   ],
   "source": [
    "import tkinter as tk\n",
    "app = tk.Tk()\n",
    "app.geometry(\"500*300\")\n",
    "\n",
    "def showme(n):\n",
    "    print(n)\n",
    "    \n",
    "app.title('thiratawat')\n",
    "label = tk.Label(text=\"ชื่อพนักงาน:\")\n",
    "name = tk.Entry\n",
    "label2 = tk.Label(text=\"เงินเดือน:\")\n",
    "salary = tk.Entry\n",
    "btn = tk.Button (text=\"กดตรงนี้\".command= showme(name))\n",
    "label.pleace(x=50,y=50)\n",
    "name.pleace(x=150,y=50)\n",
    "label2.pleace(x=50,y=100)\n",
    "salary.pleace(x=150,y=100)\n",
    "btn.pleace(x=50,y=150)\n",
    "\n",
    "app.mainloop()"
   ]
  },
  {
   "cell_type": "code",
   "execution_count": null,
   "metadata": {},
   "outputs": [],
   "source": []
  }
 ],
 "metadata": {
  "kernelspec": {
   "display_name": "Python 3",
   "language": "python",
   "name": "python3"
  },
  "language_info": {
   "codemirror_mode": {
    "name": "ipython",
    "version": 3
   },
   "file_extension": ".py",
   "mimetype": "text/x-python",
   "name": "python",
   "nbconvert_exporter": "python",
   "pygments_lexer": "ipython3",
   "version": "3.12.4"
  }
 },
 "nbformat": 4,
 "nbformat_minor": 2
}
